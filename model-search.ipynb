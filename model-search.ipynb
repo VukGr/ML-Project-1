{
 "cells": [
  {
   "cell_type": "code",
   "execution_count": 23,
   "id": "fc4e5a4e",
   "metadata": {},
   "outputs": [],
   "source": [
    "import pandas as pd\n",
    "import numpy as np\n",
    "import seaborn as sns\n",
    "import sklearn\n",
    "import matplotlib.pyplot as plt\n",
    "\n",
    "\n",
    "from sklearn import metrics\n",
    "from sklearn.model_selection import KFold, StratifiedKFold, cross_val_score\n",
    "from sklearn.pipeline import make_pipeline\n",
    "from sklearn.compose import make_column_transformer, make_column_selector, TransformedTargetRegressor\n",
    "from sklearn.preprocessing import StandardScaler, PowerTransformer, FunctionTransformer, MinMaxScaler, RobustScaler\n",
    "from sklearn.linear_model import LogisticRegression\n",
    "from sklearn.dummy import DummyClassifier\n",
    "from sklearn.ensemble import RandomForestClassifier, GradientBoostingClassifier, ExtraTreesClassifier, HistGradientBoostingClassifier\n",
    "from sklearn.svm import SVC\n",
    "import xgboost\n",
    "from xgboost import XGBClassifier\n",
    "from sklearn.decomposition import PCA, KernelPCA\n",
    "from sklearn.discriminant_analysis import LinearDiscriminantAnalysis\n",
    "from sklearn.neighbors import KNeighborsClassifier\n",
    "from sklearn.model_selection import train_test_split \n",
    "\n",
    "from sklearn.metrics import confusion_matrix\n",
    "\n",
    "from sklearn.model_selection import GridSearchCV\n",
    "from sklearn.preprocessing import PolynomialFeatures\n",
    "\n",
    "from sklearn.base import BaseEstimator, TransformerMixin\n",
    "\n",
    "from IPython.display import display\n",
    "\n",
    "pd.set_option('display.max_columns', None)\n",
    "pd.set_option('display.max_rows', 200)"
   ]
  },
  {
   "cell_type": "code",
   "execution_count": 4,
   "id": "8fcb0a1d",
   "metadata": {},
   "outputs": [],
   "source": [
    "# Sourced from the UCI website\n",
    "from ucimlrepo import fetch_ucirepo \n",
    "  \n",
    "spambase = fetch_ucirepo(id=94) \n",
    "  \n",
    "full_X = spambase.data.features\n",
    "full_y = spambase.data.targets \n",
    "\n",
    "full = full_X.join(full_y).drop_duplicates()\n",
    "train, test = train_test_split(full, test_size=0.20, stratify=full['Class'], random_state=123)\n",
    "\n",
    "y = train.pop('Class').reset_index(drop=True)\n",
    "X = train.reset_index(drop=True)\n",
    "\n",
    "test_y = test.pop('Class').reset_index(drop=True)\n",
    "test_X = test.reset_index(drop=True)"
   ]
  },
  {
   "cell_type": "code",
   "execution_count": 5,
   "id": "1d96931f",
   "metadata": {},
   "outputs": [
    {
     "data": {
      "text/plain": [
       "377"
      ]
     },
     "execution_count": 5,
     "metadata": {},
     "output_type": "execute_result"
    }
   ],
   "source": [
    "outliers = pd.Series(0, index=np.arange(len(X)))\n",
    "for col in X.columns:\n",
    "    q = X[X[col]>0][col].quantile(0.99)\n",
    "    outliers |= X[col] > q\n",
    "\n",
    "X2 = X[~outliers]\n",
    "y2 = y[~outliers]\n",
    "\n",
    "outliers.sum()"
   ]
  },
  {
   "cell_type": "code",
   "execution_count": 6,
   "id": "fb1bc8c7-3917-4e71-9c99-11e38f192b77",
   "metadata": {},
   "outputs": [],
   "source": [
    "# Log transform capital columns\n",
    "def capital_log_transform(X):\n",
    "    X = X.copy()\n",
    "    rest_cols = X.filter(like='capital').columns\n",
    "    X[rest_cols] = np.log(X[rest_cols])\n",
    "    return X\n",
    "CapitalLogTransformer = FunctionTransformer(capital_log_transform)\n",
    "\n",
    "# Convert percentages to [0,1] range\n",
    "def freq_percent_transform(X):\n",
    "    X = X.copy()\n",
    "    freq_cols = X.filter(like='freq').columns\n",
    "    X[freq_cols] /= 100\n",
    "    return X\n",
    "FreqPercentTransformer = FunctionTransformer(capital_log_transform)\n",
    "\n",
    "# Sqrt transform freq cols\n",
    "def freq_sqrt_transform(X):\n",
    "    X = X.copy()\n",
    "    freq_cols = X.filter(like='freq').columns\n",
    "    X[freq_cols] = np.sqrt(X[freq_cols])\n",
    "    return X\n",
    "FreqSqrtTransformer = FunctionTransformer(freq_sqrt_transform)\n",
    "\n",
    "# log transform freq cols\n",
    "def freq_log_transform(X):\n",
    "    X = X.copy()\n",
    "    freq_cols = X.filter(like='freq').columns\n",
    "    X[freq_cols] = np.log(X[freq_cols]+0.001)\n",
    "    return X\n",
    "FreqLogTransformer = FunctionTransformer(freq_log_transform)\n",
    "\n",
    "# Mark zero freq values\n",
    "def freq_zero_transform(X):\n",
    "    X = X.copy()\n",
    "    freq_cols = X.filter(like='freq').columns\n",
    "    # Name them zero_i so later transform steps dont mess it up\n",
    "    zero_mark_cols =  'zero_i' + pd.Index(np.arange(len(freq_cols))).astype(str)\n",
    "    X[zero_mark_cols] = X[freq_cols] > 0\n",
    "    return X\n",
    "FreqZeroTransformer = FunctionTransformer(freq_zero_transform)"
   ]
  },
  {
   "cell_type": "code",
   "execution_count": 24,
   "id": "2c774861-d7e5-435c-8aa6-9c06282f0d89",
   "metadata": {
    "editable": true,
    "slideshow": {
     "slide_type": ""
    },
    "tags": []
   },
   "outputs": [],
   "source": [
    "def wrap_model(scaler=StandardScaler, transformers=[], poly=False):\n",
    "    def inner(model):\n",
    "        return make_pipeline(*transformers,\n",
    "                             *([scaler()] if scaler else []), \n",
    "                             *([PolynomialFeatures(2, interaction_only=True)] if poly else []), \n",
    "                             model)\n",
    "    return inner\n",
    "\n",
    "default = wrap_model()\n",
    "\n",
    "def test_model(model, X, y, preprocess=default, metric='accuracy', splits=5):\n",
    "    # If no preprocessing, just use model\n",
    "    pipeline = model\n",
    "    if preprocess:\n",
    "        pipeline = preprocess(model)\n",
    "        \n",
    "    kf = KFold(n_splits=splits, shuffle=True, random_state=0)\n",
    "    cv_results = cross_val_score(\n",
    "        pipeline,\n",
    "        X,\n",
    "        y,\n",
    "        cv=kf,\n",
    "        scoring=metric,\n",
    "        n_jobs=-1)\n",
    "    \n",
    "    return cv_results\n",
    "\n",
    "def test_models(models, X, y, metric='accuracy', splits=5, preprocess=default):\n",
    "    for model in models:\n",
    "        result = test_model(model, X, y, metric=metric, preprocess=preprocess).mean()\n",
    "        print(f'{model}: {result}')\n",
    "\n",
    "def baseline_models():\n",
    "    return [\n",
    "        # Dummy\n",
    "        DummyClassifier(strategy='uniform'),\n",
    "        # Linear\n",
    "        LogisticRegression(max_iter=500),\n",
    "        # Ensambles\n",
    "        RandomForestClassifier(random_state=42),\n",
    "        XGBClassifier(random_state=42),\n",
    "        ExtraTreesClassifier(random_state=42),\n",
    "        HistGradientBoostingClassifier(random_state=42),\n",
    "        # SVM\n",
    "        SVC(),\n",
    "        # KNN\n",
    "        KNeighborsClassifier(),\n",
    "    ]"
   ]
  },
  {
   "cell_type": "code",
   "execution_count": 30,
   "id": "c370c5ac-d851-4b9b-898c-97a1511508d1",
   "metadata": {},
   "outputs": [
    {
     "name": "stdout",
     "output_type": "stream",
     "text": [
      "---- Standard\n",
      "DummyClassifier(strategy='uniform'): 0.492276489080736\n",
      "LogisticRegression(max_iter=500): 0.9242908981882797\n",
      "RandomForestClassifier(random_state=42): 0.9450677025233576\n",
      "XGBClassifier(base_score=None, booster=None, callbacks=None,\n",
      "              colsample_bylevel=None, colsample_bynode=None,\n",
      "              colsample_bytree=None, device=None, early_stopping_rounds=None,\n",
      "              enable_categorical=False, eval_metric=None, feature_types=None,\n",
      "              gamma=None, grow_policy=None, importance_type=None,\n",
      "              interaction_constraints=None, learning_rate=None, max_bin=None,\n",
      "              max_cat_threshold=None, max_cat_to_onehot=None,\n",
      "              max_delta_step=None, max_depth=None, max_leaves=None,\n",
      "              min_child_weight=None, missing=nan, monotone_constraints=None,\n",
      "              multi_strategy=None, n_estimators=None, n_jobs=None,\n",
      "              num_parallel_tree=None, random_state=42, ...): 0.944180140299205\n",
      "ExtraTreesClassifier(random_state=42): 0.9495257957416413\n",
      "HistGradientBoostingClassifier(random_state=42): 0.9483397339517904\n",
      "SVC(): 0.9248821654225511\n",
      "KNeighborsClassifier(): 0.9014263605539657\n"
     ]
    }
   ],
   "source": [
    "# Baseline scores\n",
    "print('---- Standard')\n",
    "test_models(baseline_models(), X, y)                                  "
   ]
  },
  {
   "cell_type": "code",
   "execution_count": 84,
   "id": "70907190-b2e2-4689-983e-78df6e85da51",
   "metadata": {},
   "outputs": [
    {
     "name": "stdout",
     "output_type": "stream",
     "text": [
      "---- MinMax\n",
      "DummyClassifier(strategy='uniform'): 0.521076626646267\n",
      "LogisticRegression(max_iter=500): 0.8883655715803723\n",
      "RandomForestClassifier(random_state=42): 0.9453648793435656\n",
      "GradientBoostingClassifier(random_state=42): 0.9400223103072738\n",
      "ExtraTreesClassifier(random_state=42): 0.9495257957416413\n",
      "HistGradientBoostingClassifier(random_state=42): 0.9483397339517904\n",
      "SVC(): 0.9269597576730261\n",
      "KNeighborsClassifier(): 0.8895538379460408\n"
     ]
    }
   ],
   "source": [
    "# Check MinMax Scaler\n",
    "print('---- MinMax')\n",
    "test_models(baseline_models(), X, y, preprocess=wrap_model(scaler=MinMaxScaler))   "
   ]
  },
  {
   "cell_type": "code",
   "execution_count": 157,
   "id": "613b25d3-f0ad-49b2-9bc6-94cabbf8dad1",
   "metadata": {},
   "outputs": [
    {
     "name": "stdout",
     "output_type": "stream",
     "text": [
      "---- CapitalLog\n",
      "DummyClassifier(strategy='uniform'): 0.5035678855031503\n",
      "LogisticRegression(max_iter=500): 0.9302287026953145\n",
      "RandomForestClassifier(random_state=42): 0.9465518229637435\n",
      "GradientBoostingClassifier(random_state=42): 0.9400223103072738\n",
      "ExtraTreesClassifier(random_state=42): 0.95249359570725\n",
      "HistGradientBoostingClassifier(random_state=42): 0.9483397339517904\n",
      "SVC(): 0.930524556770032\n",
      "KNeighborsClassifier(): 0.9130083200691355\n",
      "\n",
      "---- FreqSqrt\n",
      "DummyClassifier(strategy='uniform'): 0.4949488758867906\n",
      "LogisticRegression(max_iter=500): 0.9364628021922302\n",
      "RandomForestClassifier(random_state=42): 0.94566161524861\n",
      "GradientBoostingClassifier(random_state=42): 0.9400223103072738\n",
      "ExtraTreesClassifier(random_state=42): 0.952196418887042\n",
      "HistGradientBoostingClassifier(random_state=42): 0.9483397339517904\n",
      "SVC(): 0.9373516871618731\n",
      "KNeighborsClassifier(): 0.9254778418084577\n",
      "\n",
      "---- CapitalLog + FreqSqrt\n",
      "DummyClassifier(strategy='uniform'): 0.4848642642669124\n",
      "LogisticRegression(max_iter=500): 0.9388393349235674\n",
      "RandomForestClassifier(random_state=42): 0.9465522638789071\n",
      "GradientBoostingClassifier(random_state=42): 0.9400223103072738\n",
      "ExtraTreesClassifier(random_state=42): 0.95338336250722\n",
      "HistGradientBoostingClassifier(random_state=42): 0.9483397339517904\n",
      "SVC(): 0.942696901689146\n",
      "KNeighborsClassifier(): 0.9337908563013391\n",
      "\n",
      "---- CapitalLog + FreqLog (with adjust for 0)\n",
      "DummyClassifier(strategy='uniform'): 0.49375752311497745\n",
      "LogisticRegression(max_iter=500): 0.9358693303821412\n",
      "RandomForestClassifier(random_state=42): 0.9462564098041897\n",
      "GradientBoostingClassifier(random_state=42): 0.9400223103072738\n",
      "ExtraTreesClassifier(random_state=42): 0.9516029470769529\n",
      "HistGradientBoostingClassifier(random_state=42): 0.9483397339517904\n",
      "SVC(): 0.9459632012204532\n",
      "KNeighborsClassifier(): 0.9370536285113381\n"
     ]
    }
   ],
   "source": [
    "# Custom input transformer test \n",
    "print('---- CapitalLog')\n",
    "test_models(baseline_models(), X, y, preprocess=wrap_model(transformers=[CapitalLogTransformer]))\n",
    "print()\n",
    "print('---- FreqSqrt')\n",
    "test_models(baseline_models(), X, y, preprocess=wrap_model(transformers=[FreqSqrtTransformer]))\n",
    "print()\n",
    "print('---- CapitalLog + FreqSqrt')\n",
    "test_models(baseline_models(), X, y, preprocess=wrap_model(transformers=[CapitalLogTransformer, \n",
    "                                                                         FreqSqrtTransformer]))\n",
    "print()\n",
    "print('---- CapitalLog + FreqLog (with adjust for 0)')\n",
    "test_models(models, X, y, preprocess=wrap_model(transformers=[CapitalLogTransformer, \n",
    "                                                              FreqLogTransformer]))"
   ]
  },
  {
   "cell_type": "code",
   "execution_count": 158,
   "id": "5603ea32-9c5e-44f3-b03c-22c22b9e0990",
   "metadata": {},
   "outputs": [
    {
     "name": "stdout",
     "output_type": "stream",
     "text": [
      "---- Freq: Sqrt + ZeroMark\n",
      "DummyClassifier(strategy='uniform'): 0.4979237304950154\n",
      "LogisticRegression(max_iter=500): 0.9432934599053796\n",
      "RandomForestClassifier(random_state=42): 0.9474446761698582\n",
      "GradientBoostingClassifier(random_state=42): 0.9409125180224074\n",
      "ExtraTreesClassifier(random_state=42): 0.9456651425699182\n",
      "HistGradientBoostingClassifier(random_state=42): 0.9483397339517904\n",
      "SVC(): 0.9486369107719984\n",
      "KNeighborsClassifier(): 0.9364636840225572\n",
      "\n",
      "---- Freq: Log + ZeroMark\n",
      "DummyClassifier(strategy='uniform'): 0.49168301727064695\n",
      "LogisticRegression(max_iter=500): 0.943293018990216\n",
      "RandomForestClassifier(random_state=42): 0.9474451170850218\n",
      "GradientBoostingClassifier(random_state=42): 0.9409125180224074\n",
      "ExtraTreesClassifier(random_state=42): 0.9456647016547546\n",
      "HistGradientBoostingClassifier(random_state=42): 0.9483397339517904\n",
      "SVC(): 0.9438842862244876\n",
      "KNeighborsClassifier(): 0.9367573335214571\n"
     ]
    }
   ],
   "source": [
    "# Zero marker test\n",
    "print('---- Freq: Sqrt + ZeroMark')\n",
    "test_models(baseline_models(), X, y, preprocess=wrap_model(transformers=[CapitalLogTransformer, \n",
    "                                                                         FreqZeroTransformer, \n",
    "                                                                         FreqSqrtTransformer]))\n",
    "print()\n",
    "print('---- Freq: Log + ZeroMark')\n",
    "test_models(baseline_models(), X, y, preprocess=wrap_model(transformers=[CapitalLogTransformer, \n",
    "                                                                         FreqZeroTransformer, \n",
    "                                                                         FreqLogTransformer]))"
   ]
  },
  {
   "cell_type": "code",
   "execution_count": 13,
   "id": "b47169e8-e058-468f-a5b5-3e019d6d1c6a",
   "metadata": {},
   "outputs": [],
   "source": [
    "best_transformers = [CapitalLogTransformer, FreqSqrtTransformer]"
   ]
  },
  {
   "cell_type": "markdown",
   "id": "e08697c0-970c-4d1e-8a9e-94ad56a697fb",
   "metadata": {},
   "source": [
    "## Outliers"
   ]
  },
  {
   "cell_type": "code",
   "execution_count": 222,
   "id": "97f07d8f",
   "metadata": {},
   "outputs": [
    {
     "name": "stdout",
     "output_type": "stream",
     "text": [
      "DummyClassifier(strategy='uniform'): 0.4908079798549421\n",
      "LogisticRegression(max_iter=500): 0.9297943618405258\n",
      "RandomForestClassifier(random_state=42): 0.9468400511443263\n",
      "GradientBoostingClassifier(random_state=42): 0.9428283482504286\n",
      "ExtraTreesClassifier(random_state=42): 0.9488472984517117\n",
      "HistGradientBoostingClassifier(random_state=42): 0.9485139669795254\n",
      "SVC(): 0.9334682665088415\n",
      "KNeighborsClassifier(): 0.908731386201082\n"
     ]
    }
   ],
   "source": [
    "# Filetered outliers\n",
    "test_models(baseline_models(), X2, y2)"
   ]
  },
  {
   "cell_type": "code",
   "execution_count": 213,
   "id": "58d23ea5-583b-4171-ad07-4b21df3eda10",
   "metadata": {},
   "outputs": [
    {
     "name": "stdout",
     "output_type": "stream",
     "text": [
      "DummyClassifier(strategy='uniform'): 0.4857834406284722\n",
      "LogisticRegression(max_iter=500): 0.9394894500868224\n",
      "RandomForestClassifier(random_state=42): 0.9458372650068956\n",
      "GradientBoostingClassifier(random_state=42): 0.9424939000898934\n",
      "ExtraTreesClassifier(random_state=42): 0.9515223253918181\n",
      "HistGradientBoostingClassifier(random_state=42): 0.9488484151400606\n",
      "SVC(): 0.9468445178977227\n",
      "KNeighborsClassifier(): 0.9378133008749254\n"
     ]
    }
   ],
   "source": [
    "# Filetered outliers and transformation applied\n",
    "test_models(baseline_models(), X2, y2, preprocess=wrap_model(transformers=best_transformers))"
   ]
  },
  {
   "cell_type": "markdown",
   "id": "fd0081bd-213a-4948-bac8-0a2d1eea15d1",
   "metadata": {},
   "source": [
    "## Polynomial terms"
   ]
  },
  {
   "cell_type": "code",
   "execution_count": 220,
   "id": "54de19d1",
   "metadata": {},
   "outputs": [
    {
     "name": "stdout",
     "output_type": "stream",
     "text": [
      "DummyClassifier(strategy='uniform'): 0.5124818673639004\n",
      "LogisticRegression(max_iter=500): 0.9094444028024569\n",
      "RandomForestClassifier(random_state=42): 0.942398843038611\n",
      "GradientBoostingClassifier(random_state=42): 0.9453679657497102\n",
      "ExtraTreesClassifier(random_state=42): 0.9498216498163587\n",
      "HistGradientBoostingClassifier(random_state=42): 0.950418648947756\n",
      "SVC(): 0.8563008981441881\n",
      "KNeighborsClassifier(): 0.9002372123579703\n"
     ]
    }
   ],
   "source": [
    "# Polynomial\n",
    "models = baseline_models()\n",
    "\n",
    "test_models(models, X, y, preprocess=wrap_model(poly=True))"
   ]
  },
  {
   "cell_type": "code",
   "execution_count": 221,
   "id": "c3a39637",
   "metadata": {},
   "outputs": [
    {
     "name": "stdout",
     "output_type": "stream",
     "text": [
      "DummyClassifier(strategy='uniform'): 0.5021753089039146\n",
      "LogisticRegression(max_iter=500): 0.9150758510561079\n",
      "RandomForestClassifier(random_state=42): 0.9444994723647551\n",
      "GradientBoostingClassifier(random_state=42): 0.9498484095566189\n",
      "ExtraTreesClassifier(random_state=42): 0.9478433956259318\n",
      "HistGradientBoostingClassifier(random_state=42): 0.953194007850319\n",
      "SVC(): 0.8980279283756092\n",
      "KNeighborsClassifier(): 0.8933540292907354\n"
     ]
    }
   ],
   "source": [
    "# Poly outlierless\n",
    "models = baseline_models()\n",
    "\n",
    "test_models(models, X2, y2, preprocess=wrap_model(poly=True))"
   ]
  },
  {
   "cell_type": "code",
   "execution_count": 224,
   "id": "e9d66423-5460-4a43-a859-2d8e3b5151bc",
   "metadata": {},
   "outputs": [
    {
     "name": "stdout",
     "output_type": "stream",
     "text": [
      "DummyClassifier(strategy='uniform'): 0.5025147821620204\n",
      "LogisticRegression(max_iter=500): 0.9247737310232775\n",
      "RandomForestClassifier(random_state=42): 0.9455039335347093\n",
      "GradientBoostingClassifier(random_state=42): 0.9461717131674308\n",
      "ExtraTreesClassifier(random_state=42): 0.9515223253918179\n",
      "HistGradientBoostingClassifier(random_state=42): 0.9535273393225052\n",
      "SVC(): 0.9341377211740861\n",
      "KNeighborsClassifier(): 0.9043835601141256\n"
     ]
    }
   ],
   "source": [
    "# Poly outlierless with transforms\n",
    "models = baseline_models()\n",
    "\n",
    "test_models(models, X2, y2, preprocess=wrap_model(poly=True, transformers=best_transformers))"
   ]
  },
  {
   "cell_type": "markdown",
   "id": "64ed74b8",
   "metadata": {},
   "source": [
    "## Filtering columns"
   ]
  },
  {
   "cell_type": "code",
   "execution_count": 230,
   "id": "d8b57a5a",
   "metadata": {},
   "outputs": [],
   "source": [
    "# Analysis in other notebook\n",
    "low_corr_cols = [\n",
    "    'word_freq_direct', 'char_freq_(', 'word_freq_table', 'word_freq_parts',\n",
    "]\n",
    "X_corr = X2.copy()\n",
    "X_corr = X_corr.drop(low_corr_cols, axis=1)"
   ]
  },
  {
   "cell_type": "code",
   "execution_count": 179,
   "id": "50e286ac",
   "metadata": {
    "editable": true,
    "slideshow": {
     "slide_type": ""
    },
    "tags": []
   },
   "outputs": [
    {
     "name": "stdout",
     "output_type": "stream",
     "text": [
      "DummyClassifier(strategy='uniform'): 0.5121998202131758\n",
      "LogisticRegression(max_iter=500): 0.9394900084309971\n",
      "RandomForestClassifier(random_state=42): 0.9461717131674305\n",
      "GradientBoostingClassifier(random_state=42): 0.9421594519293583\n",
      "ExtraTreesClassifier(random_state=42): 0.9548656903088201\n",
      "HistGradientBoostingClassifier(random_state=42): 0.9498523179658406\n",
      "SVC(): 0.9485156420120491\n",
      "KNeighborsClassifier(): 0.9374794110585647\n"
     ]
    }
   ],
   "source": [
    "# Columns with |correlation| > 0.1\n",
    "test_models(baseline_models(), X_corr, y2, preprocess=wrap_model(transformers=best_transformers))"
   ]
  },
  {
   "cell_type": "code",
   "execution_count": 180,
   "id": "6a4488ad",
   "metadata": {},
   "outputs": [
    {
     "name": "stdout",
     "output_type": "stream",
     "text": [
      "DummyClassifier(strategy='uniform'): 0.4901357334688249\n",
      "LogisticRegression(max_iter=500): 0.9277832061239188\n",
      "RandomForestClassifier(random_state=42): 0.947509505809571\n",
      "GradientBoostingClassifier(random_state=42): 0.9465061613279658\n",
      "ExtraTreesClassifier(random_state=42): 0.9511884355754574\n",
      "HistGradientBoostingClassifier(random_state=42): 0.9495167531169564\n",
      "SVC(): 0.9384844305726936\n",
      "KNeighborsClassifier(): 0.9077263666869531\n"
     ]
    }
   ],
   "source": [
    "# Columns with |correlation| > 0.1 and poly terms\n",
    "models = baseline_models()\n",
    "\n",
    "test_models(models, X_corr, y2, preprocess=wrap_model(poly=True, transformers=best_transformers))"
   ]
  },
  {
   "cell_type": "markdown",
   "id": "6c74bcf4-feea-4b1c-8672-c4d7e27c38c4",
   "metadata": {},
   "source": [
    "## Custom columns"
   ]
  },
  {
   "cell_type": "code",
   "execution_count": 198,
   "id": "f91bde28-47cd-4567-98b7-c47c8fb74e0a",
   "metadata": {},
   "outputs": [],
   "source": [
    "pos_corr = [\n",
    "    'word_freq_make', 'word_freq_address', 'word_freq_all', 'word_freq_3d',\n",
    "    'word_freq_our', 'word_freq_over', 'word_freq_remove',\n",
    "    'word_freq_internet', 'word_freq_order', 'word_freq_mail',\n",
    "    'word_freq_receive', 'word_freq_will', 'word_freq_people',\n",
    "    'word_freq_report', 'word_freq_addresses', 'word_freq_free',\n",
    "    'word_freq_business', 'word_freq_email', 'word_freq_you',\n",
    "    'word_freq_credit', 'word_freq_your', 'word_freq_font', 'word_freq_000',\n",
    "    'word_freq_money', 'char_freq_!', 'char_freq_$', 'char_freq_#'\n",
    "]\n",
    "\n",
    "neg_corr = [\n",
    "    'word_freq_hp', 'word_freq_hpl', 'word_freq_george', 'word_freq_650',\n",
    "    'word_freq_lab', 'word_freq_labs', 'word_freq_telnet', 'word_freq_857',\n",
    "    'word_freq_data', 'word_freq_415', 'word_freq_85',\n",
    "    'word_freq_technology', 'word_freq_1999', 'word_freq_parts',\n",
    "    'word_freq_pm', 'word_freq_direct', 'word_freq_cs', 'word_freq_meeting',\n",
    "    'word_freq_original', 'word_freq_project', 'word_freq_re',\n",
    "    'word_freq_edu', 'word_freq_table', 'word_freq_conference',\n",
    "    'char_freq_;', 'char_freq_(', 'char_freq_['\n",
    "]"
   ]
  },
  {
   "cell_type": "code",
   "execution_count": 206,
   "id": "bc03adf7-ea1f-43c7-a259-fc85d7aac35f",
   "metadata": {},
   "outputs": [
    {
     "name": "stdout",
     "output_type": "stream",
     "text": [
      "DummyClassifier(strategy='uniform'): 0.49380182131869726\n",
      "LogisticRegression(max_iter=500): 0.9391550019262873\n",
      "RandomForestClassifier(random_state=42): 0.9448344788694648\n",
      "GradientBoostingClassifier(random_state=42): 0.9431627964109637\n",
      "ExtraTreesClassifier(random_state=42): 0.952526228217598\n",
      "HistGradientBoostingClassifier(random_state=42): 0.9488495318284098\n",
      "SVC(): 0.9471772910257341\n",
      "KNeighborsClassifier(): 0.9388183203890541\n"
     ]
    }
   ],
   "source": [
    "# Test with correlated columns and two sum columns\n",
    "X3 = X2.copy()\n",
    "X3['sum_char_freq'] = (X3.filter(like='char_freq')/100).sum(axis=1)\n",
    "\n",
    "test_models(baseline_models(), X3, y2, preprocess=wrap_model(transformers=best_transformers))"
   ]
  },
  {
   "cell_type": "code",
   "execution_count": 205,
   "id": "45900a5c-556d-4a91-86dc-faefb37c9b96",
   "metadata": {},
   "outputs": [
    {
     "name": "stdout",
     "output_type": "stream",
     "text": [
      "DummyClassifier(strategy='uniform'): 0.497826366128609\n",
      "LogisticRegression(max_iter=500): 0.9378172092841469\n",
      "RandomForestClassifier(random_state=42): 0.9488472984517115\n",
      "GradientBoostingClassifier(random_state=42): 0.9408227759755668\n",
      "ExtraTreesClassifier(random_state=42): 0.9552012551577043\n",
      "HistGradientBoostingClassifier(random_state=42): 0.9481795188189904\n",
      "SVC(): 0.9471789660582577\n",
      "KNeighborsClassifier(): 0.9391516518612404\n"
     ]
    }
   ],
   "source": [
    "# Test with correlated columns and two sum columns\n",
    "X3 = X2.copy()\n",
    "X3['pos_sum_freq'] = (X3[pos_corr].filter(like='freq')/100).sum(axis=1)\n",
    "X3['neg_sum_freq'] = (X3[neg_corr].filter(like='freq')/100).sum(axis=1)\n",
    "\n",
    "test_models(baseline_models(), X3, y2, preprocess=wrap_model(transformers=best_transformers))"
   ]
  },
  {
   "cell_type": "code",
   "execution_count": 207,
   "id": "59a48f54-f963-49f2-a507-5bd2580d18b8",
   "metadata": {},
   "outputs": [
    {
     "name": "stdout",
     "output_type": "stream",
     "text": [
      "DummyClassifier(strategy='uniform'): 0.4894685121802781\n",
      "LogisticRegression(max_iter=500): 0.9368144231467161\n",
      "RandomForestClassifier(random_state=42): 0.9485117336028275\n",
      "GradientBoostingClassifier(random_state=42): 0.9414911139524627\n",
      "ExtraTreesClassifier(random_state=42): 0.9521912217128883\n",
      "HistGradientBoostingClassifier(random_state=42): 0.9508545457590968\n",
      "SVC(): 0.9468445178977225\n",
      "KNeighborsClassifier(): 0.9368116314258434\n"
     ]
    }
   ],
   "source": [
    "# Test with correlated columns and two sum columns\n",
    "X3 = X2.copy()\n",
    "X3['sum_char_freq'] = (X3.filter(like='char_freq')/100).sum(axis=1)\n",
    "X3['pos_sum_freq'] = (X3[pos_corr].filter(like='freq')/100).sum(axis=1)\n",
    "X3['neg_sum_freq'] = (X3[neg_corr].filter(like='freq')/100).sum(axis=1)\n",
    "\n",
    "test_models(baseline_models(), X3, y2, preprocess=wrap_model(transformers=best_transformers))"
   ]
  },
  {
   "cell_type": "code",
   "execution_count": 209,
   "id": "a52b061d-d39a-4142-946c-e1670a614ccb",
   "metadata": {},
   "outputs": [
    {
     "name": "stdout",
     "output_type": "stream",
     "text": [
      "DummyClassifier(strategy='uniform'): 0.49683195515379597\n",
      "LogisticRegression(max_iter=500): 0.9294560052707691\n",
      "RandomForestClassifier(random_state=42): 0.9455039335347095\n",
      "GradientBoostingClassifier(random_state=42): 0.9451700437183488\n",
      "ExtraTreesClassifier(random_state=42): 0.9508545457590969\n",
      "HistGradientBoostingClassifier(random_state=42): 0.9538629041713893\n",
      "SVC(): 0.9334699415413649\n",
      "KNeighborsClassifier(): 0.9073885684613708\n"
     ]
    }
   ],
   "source": [
    "# Test with correlated columns and two sum columns\n",
    "X3 = X2.copy()\n",
    "X3['sum_char_freq'] = (X3.filter(like='char_freq')/100).sum(axis=1)\n",
    "X3['pos_sum_freq'] = (X3[pos_corr].filter(like='freq')/100).sum(axis=1)\n",
    "X3['neg_sum_freq'] = (X3[neg_corr].filter(like='freq')/100).sum(axis=1)\n",
    "\n",
    "test_models(baseline_models(), X3, y2, preprocess=wrap_model(poly=True, transformers=best_transformers))"
   ]
  },
  {
   "cell_type": "markdown",
   "id": "367cbc64-bf59-45d5-8066-e571686619d2",
   "metadata": {},
   "source": [
    "## PCA"
   ]
  },
  {
   "cell_type": "code",
   "execution_count": 39,
   "id": "b5d79091-18e4-48b5-99df-bef99ea47079",
   "metadata": {},
   "outputs": [
    {
     "name": "stdout",
     "output_type": "stream",
     "text": [
      "DummyClassifier(strategy='uniform'): 0.5083183054748435\n",
      "LogisticRegression(max_iter=500): 0.9394319249033293\n",
      "RandomForestClassifier(random_state=42): 0.9462572916345167\n",
      "XGBClassifier(base_score=None, booster=None, callbacks=None,\n",
      "              colsample_bylevel=None, colsample_bynode=None,\n",
      "              colsample_bytree=None, device=None, early_stopping_rounds=None,\n",
      "              enable_categorical=False, eval_metric=None, feature_types=None,\n",
      "              gamma=None, grow_policy=None, importance_type=None,\n",
      "              interaction_constraints=None, learning_rate=None, max_bin=None,\n",
      "              max_cat_threshold=None, max_cat_to_onehot=None,\n",
      "              max_delta_step=None, max_depth=None, max_leaves=None,\n",
      "              min_child_weight=None, missing=nan, monotone_constraints=None,\n",
      "              multi_strategy=None, n_estimators=None, n_jobs=None,\n",
      "              num_parallel_tree=None, random_state=42, ...): 0.9447753757699482\n",
      "ExtraTreesClassifier(random_state=42): 0.9530892720931566\n",
      "HistGradientBoostingClassifier(random_state=42): 0.948636469856835\n",
      "SVC(): 0.9435875503194431\n",
      "KNeighborsClassifier(): 0.9346801821861457\n"
     ]
    }
   ],
   "source": [
    "# Baseline reference\n",
    "test_models(baseline_models(), Xpca, y, preprocess=wrap_model(transformers=best_transformers))"
   ]
  },
  {
   "cell_type": "code",
   "execution_count": 18,
   "id": "76213a9d-ea7e-4bb4-aa71-fd87fae8ade7",
   "metadata": {},
   "outputs": [],
   "source": [
    "freq_cols = X.filter(like='freq')\n",
    "res = pd.DataFrame({\n",
    "    'regular': freq_cols.corrwith(y),\n",
    "    'sqrt': np.sqrt(freq_cols).corrwith(y),\n",
    "    'log': np.log(freq_cols + 0.001).corrwith(y),\n",
    "})"
   ]
  },
  {
   "cell_type": "code",
   "execution_count": 36,
   "id": "c3ff1898-2ab3-40e0-b9d8-3d7afffccc03",
   "metadata": {},
   "outputs": [
    {
     "data": {
      "text/plain": [
       "Index(['word_freq_parts', 'word_freq_direct', 'word_freq_table',\n",
       "       'char_freq_;'],\n",
       "      dtype='object')"
      ]
     },
     "metadata": {},
     "output_type": "display_data"
    },
    {
     "name": "stdout",
     "output_type": "stream",
     "text": [
      "DummyClassifier(strategy='uniform'): 0.5207882681293292\n",
      "LogisticRegression(max_iter=500): 0.9394319249033293\n",
      "RandomForestClassifier(random_state=42): 0.9429918739335366\n",
      "XGBClassifier(base_score=None, booster=None, callbacks=None,\n",
      "              colsample_bylevel=None, colsample_bynode=None,\n",
      "              colsample_bytree=None, device=None, early_stopping_rounds=None,\n",
      "              enable_categorical=False, eval_metric=None, feature_types=None,\n",
      "              gamma=None, grow_policy=None, importance_type=None,\n",
      "              interaction_constraints=None, learning_rate=None, max_bin=None,\n",
      "              max_cat_threshold=None, max_cat_to_onehot=None,\n",
      "              max_delta_step=None, max_depth=None, max_leaves=None,\n",
      "              min_child_weight=None, missing=nan, monotone_constraints=None,\n",
      "              multi_strategy=None, n_estimators=None, n_jobs=None,\n",
      "              num_parallel_tree=None, random_state=42, ...): 0.9471527903316124\n",
      "ExtraTreesClassifier(random_state=42): 0.9527885679516406\n",
      "HistGradientBoostingClassifier(random_state=42): 0.950120590297221\n",
      "SVC(): 0.9438842862244876\n",
      "KNeighborsClassifier(): 0.9331969435760866\n"
     ]
    }
   ],
   "source": [
    "neg_low_corr_cols = res[(res['sqrt'] < 0) & (abs(res['sqrt'])<0.1)].index\n",
    "display(neg_low_corr_cols)\n",
    "\n",
    "pca = wrap_model(transformers=[CapitalLogTransformer, FreqSqrtTransformer])(PCA(n_components=2)).fit(X[neg_low_corr_cols])\n",
    "pca_out = pd.DataFrame(pca.transform(X[neg_low_corr_cols]))\n",
    "Xpca = X.drop(neg_low_corr_cols, axis='columns')\n",
    "Xpca['pca0'] = pca_out[0]\n",
    "Xpca['pca1'] = pca_out[1]\n",
    "\n",
    "test_models(baseline_models(), Xpca, y, preprocess=wrap_model(transformers=best_transformers))"
   ]
  },
  {
   "cell_type": "code",
   "execution_count": 40,
   "id": "970c4da7-107f-428f-81d6-6848b036d120",
   "metadata": {},
   "outputs": [
    {
     "data": {
      "text/plain": [
       "Index(['word_freq_parts', 'word_freq_direct', 'word_freq_table',\n",
       "       'char_freq_;'],\n",
       "      dtype='object')"
      ]
     },
     "metadata": {},
     "output_type": "display_data"
    },
    {
     "name": "stdout",
     "output_type": "stream",
     "text": [
      "DummyClassifier(strategy='uniform'): 0.49524517087667164\n",
      "LogisticRegression(max_iter=500): 0.9394319249033293\n",
      "RandomForestClassifier(random_state=42): 0.9462572916345167\n",
      "XGBClassifier(base_score=None, booster=None, callbacks=None,\n",
      "              colsample_bylevel=None, colsample_bynode=None,\n",
      "              colsample_bytree=None, device=None, early_stopping_rounds=None,\n",
      "              enable_categorical=False, eval_metric=None, feature_types=None,\n",
      "              gamma=None, grow_policy=None, importance_type=None,\n",
      "              interaction_constraints=None, learning_rate=None, max_bin=None,\n",
      "              max_cat_threshold=None, max_cat_to_onehot=None,\n",
      "              max_delta_step=None, max_depth=None, max_leaves=None,\n",
      "              min_child_weight=None, missing=nan, monotone_constraints=None,\n",
      "              multi_strategy=None, n_estimators=None, n_jobs=None,\n",
      "              num_parallel_tree=None, random_state=42, ...): 0.9447753757699482\n",
      "ExtraTreesClassifier(random_state=42): 0.9530892720931566\n",
      "HistGradientBoostingClassifier(random_state=42): 0.948636469856835\n",
      "SVC(): 0.9435875503194431\n",
      "KNeighborsClassifier(): 0.9346801821861457\n"
     ]
    }
   ],
   "source": [
    "neg_low_corr_cols = res[(res['sqrt'] < 0) & (abs(res['sqrt'])<0.1)].index\n",
    "display(neg_low_corr_cols)\n",
    "\n",
    "pca = wrap_model(transformers=[CapitalLogTransformer, FreqSqrtTransformer])(PCA(n_components=1)).fit(X[neg_low_corr_cols])\n",
    "pca_out = pd.DataFrame(pca.transform(X[neg_low_corr_cols]))\n",
    "Xpca = X.drop(neg_low_corr_cols, axis='columns')\n",
    "Xpca['pca0'] = pca_out[0]\n",
    "\n",
    "test_models(baseline_models(), Xpca, y, preprocess=wrap_model(transformers=best_transformers))"
   ]
  },
  {
   "cell_type": "code",
   "execution_count": 41,
   "id": "24650c40-4624-44e3-8ab9-d6151f98140b",
   "metadata": {},
   "outputs": [
    {
     "data": {
      "text/plain": [
       "Index(['word_freq_parts', 'word_freq_direct', 'word_freq_table',\n",
       "       'char_freq_;'],\n",
       "      dtype='object')"
      ]
     },
     "metadata": {},
     "output_type": "display_data"
    },
    {
     "name": "stdout",
     "output_type": "stream",
     "text": [
      "DummyClassifier(strategy='uniform'): 0.5062318949210982\n",
      "LogisticRegression(max_iter=500): 0.9376528322185529\n",
      "RandomForestClassifier(random_state=42): 0.9429901102728824\n",
      "XGBClassifier(base_score=None, booster=None, callbacks=None,\n",
      "              colsample_bylevel=None, colsample_bynode=None,\n",
      "              colsample_bytree=None, device=None, early_stopping_rounds=None,\n",
      "              enable_categorical=False, eval_metric=None, feature_types=None,\n",
      "              gamma=None, grow_policy=None, importance_type=None,\n",
      "              interaction_constraints=None, learning_rate=None, max_bin=None,\n",
      "              max_cat_threshold=None, max_cat_to_onehot=None,\n",
      "              max_delta_step=None, max_depth=None, max_leaves=None,\n",
      "              min_child_weight=None, missing=nan, monotone_constraints=None,\n",
      "              multi_strategy=None, n_estimators=None, n_jobs=None,\n",
      "              num_parallel_tree=None, random_state=42, ...): 0.9450712298446657\n",
      "ExtraTreesClassifier(random_state=42): 0.9513062111719085\n",
      "HistGradientBoostingClassifier(random_state=42): 0.9513070930022355\n",
      "SVC(): 0.942994960339681\n",
      "KNeighborsClassifier(): 0.9305232340245414\n"
     ]
    }
   ],
   "source": [
    "neg_low_corr_cols = res[(res['sqrt'] < 0) & (abs(res['sqrt'])<0.1)].index\n",
    "display(neg_low_corr_cols)\n",
    "X3 = X.drop(neg_low_corr_cols, axis='columns')\n",
    "\n",
    "test_models(baseline_models(), X3, y, preprocess=wrap_model(transformers=best_transformers))"
   ]
  },
  {
   "cell_type": "code",
   "execution_count": null,
   "id": "ed4f8212-c684-41cb-bd7b-bb07c82952c4",
   "metadata": {},
   "outputs": [],
   "source": []
  },
  {
   "cell_type": "code",
   "execution_count": 43,
   "id": "43328dc4-4ca4-464d-a028-5163688e8726",
   "metadata": {},
   "outputs": [
    {
     "data": {
      "text/plain": [
       "Index(['word_freq_3d', 'word_freq_will', 'word_freq_report', 'word_freq_font'], dtype='object')"
      ]
     },
     "metadata": {},
     "output_type": "display_data"
    },
    {
     "name": "stdout",
     "output_type": "stream",
     "text": [
      "DummyClassifier(strategy='uniform'): 0.4964409328001199\n",
      "LogisticRegression(max_iter=500): 0.9376528322185529\n",
      "RandomForestClassifier(random_state=42): 0.9462555279738625\n",
      "XGBClassifier(base_score=None, booster=None, callbacks=None,\n",
      "              colsample_bylevel=None, colsample_bynode=None,\n",
      "              colsample_bytree=None, device=None, early_stopping_rounds=None,\n",
      "              enable_categorical=False, eval_metric=None, feature_types=None,\n",
      "              gamma=None, grow_policy=None, importance_type=None,\n",
      "              interaction_constraints=None, learning_rate=None, max_bin=None,\n",
      "              max_cat_threshold=None, max_cat_to_onehot=None,\n",
      "              max_delta_step=None, max_depth=None, max_leaves=None,\n",
      "              min_child_weight=None, missing=nan, monotone_constraints=None,\n",
      "              multi_strategy=None, n_estimators=None, n_jobs=None,\n",
      "              num_parallel_tree=None, random_state=42, ...): 0.9444768762042497\n",
      "ExtraTreesClassifier(random_state=42): 0.9513062111719085\n",
      "HistGradientBoostingClassifier(random_state=42): 0.9492299416669239\n",
      "SVC(): 0.943292137159889\n",
      "KNeighborsClassifier(): 0.9314134417396749\n"
     ]
    }
   ],
   "source": [
    "pos_low_corr_cols = res[(res['sqrt'] > 0) & (abs(res['sqrt'])<0.15)].index\n",
    "display(pos_low_corr_cols)\n",
    "\n",
    "pca = wrap_model(transformers=[CapitalLogTransformer, FreqSqrtTransformer])(PCA(n_components=1)).fit(X[pos_low_corr_cols])\n",
    "pca_out = pd.DataFrame(pca.transform(X[pos_low_corr_cols]))\n",
    "Xpca = X.drop(neg_low_corr_cols, axis='columns')\n",
    "Xpca['pca0'] = pca_out[0]\n",
    "\n",
    "test_models(baseline_models(), Xpca, y, preprocess=wrap_model(transformers=best_transformers))"
   ]
  },
  {
   "cell_type": "code",
   "execution_count": 46,
   "id": "dad05a78-21f7-4357-81d4-72b32ab71500",
   "metadata": {},
   "outputs": [
    {
     "data": {
      "text/plain": [
       "Index(['word_freq_3d', 'word_freq_will', 'word_freq_report', 'word_freq_font'], dtype='object')"
      ]
     },
     "metadata": {},
     "output_type": "display_data"
    },
    {
     "name": "stdout",
     "output_type": "stream",
     "text": [
      "DummyClassifier(strategy='uniform'): 0.5109942196022063\n",
      "LogisticRegression(max_iter=500): 0.9376528322185529\n",
      "RandomForestClassifier(random_state=42): 0.9429901102728824\n",
      "XGBClassifier(base_score=None, booster=None, callbacks=None,\n",
      "              colsample_bylevel=None, colsample_bynode=None,\n",
      "              colsample_bytree=None, device=None, early_stopping_rounds=None,\n",
      "              enable_categorical=False, eval_metric=None, feature_types=None,\n",
      "              gamma=None, grow_policy=None, importance_type=None,\n",
      "              interaction_constraints=None, learning_rate=None, max_bin=None,\n",
      "              max_cat_threshold=None, max_cat_to_onehot=None,\n",
      "              max_delta_step=None, max_depth=None, max_leaves=None,\n",
      "              min_child_weight=None, missing=nan, monotone_constraints=None,\n",
      "              multi_strategy=None, n_estimators=None, n_jobs=None,\n",
      "              num_parallel_tree=None, random_state=42, ...): 0.9450712298446657\n",
      "ExtraTreesClassifier(random_state=42): 0.9513062111719085\n",
      "HistGradientBoostingClassifier(random_state=42): 0.9513070930022355\n",
      "SVC(): 0.942994960339681\n",
      "KNeighborsClassifier(): 0.9305232340245414\n"
     ]
    }
   ],
   "source": [
    "pos_low_corr_cols = res[(res['sqrt'] > 0) & (abs(res['sqrt'])<0.15)].index\n",
    "display(pos_low_corr_cols)\n",
    "X3 = X.drop(neg_low_corr_cols, axis='columns')\n",
    "\n",
    "test_models(baseline_models(), X3, y, preprocess=wrap_model(transformers=best_transformers))\n"
   ]
  }
 ],
 "metadata": {
  "kernelspec": {
   "display_name": "Python 3 (ipykernel)",
   "language": "python",
   "name": "python3"
  },
  "language_info": {
   "codemirror_mode": {
    "name": "ipython",
    "version": 3
   },
   "file_extension": ".py",
   "mimetype": "text/x-python",
   "name": "python",
   "nbconvert_exporter": "python",
   "pygments_lexer": "ipython3",
   "version": "3.11.0rc1"
  }
 },
 "nbformat": 4,
 "nbformat_minor": 5
}
